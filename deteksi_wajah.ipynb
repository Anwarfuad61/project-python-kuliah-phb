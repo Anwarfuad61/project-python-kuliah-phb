{
 "cells": [
  {
   "cell_type": "markdown",
   "id": "59636f07",
   "metadata": {},
   "source": [
    "# mendeteksi wajah dalam sebuah gambar menggunakan OpenCV (Open Source Computer Vision Library) dan metode deteksi wajah Haar Cascade."
   ]
  },
  {
   "cell_type": "code",
   "execution_count": 1,
   "id": "f46a5dae",
   "metadata": {},
   "outputs": [],
   "source": [
    "import numpy as np\n",
    "import cv2 as cv\n",
    " \n",
    "wajah= cv.CascadeClassifier('haarcascade_frontalface_default.xml')\n",
    "\n",
    "img= cv.imread('poto.jpg')\n",
    "img_gray= cv.cvtColor(img, cv.COLOR_BGR2GRAY)\n",
    " \n",
    "deteksi_wajah=wajah.detectMultiScale(img_gray,1.1,5)\n",
    " \n",
    "font= cv.FONT_HERSHEY_SIMPLEX\n",
    "jumlah=0\n",
    " \n",
    "for(x,y,w,h) in deteksi_wajah:\n",
    "    jumlah = jumlah+1\n",
    "    cv.putText(img,\"Wajah\",(x,y-10),font,0.75,(0,0,255),2,cv.LINE_AA)\n",
    "    cv.rectangle(img,(x,y),(x+w,y+h),(0,255,0),2)\n",
    "    \n",
    "    roi_gray = img_gray[y:y+h,x:x+w]\n",
    "    roi_color = img[y:y+h, x:x+w]\n",
    " \n",
    "cv.putText(img,\"Jumlah wajah ada : \"+str(jumlah)+ \" buah\",(10,30),font,1,(0,0,0),2,cv.LINE_AA)\n",
    "\n",
    "cv.imshow('img',img)\n",
    "cv.waitKey(0)\n",
    "cv.destroyAllWindows()"
   ]
  },
  {
   "cell_type": "code",
   "execution_count": null,
   "id": "5fdfc3a3",
   "metadata": {},
   "outputs": [],
   "source": []
  }
 ],
 "metadata": {
  "kernelspec": {
   "display_name": "Python 3 (ipykernel)",
   "language": "python",
   "name": "python3"
  },
  "language_info": {
   "codemirror_mode": {
    "name": "ipython",
    "version": 3
   },
   "file_extension": ".py",
   "mimetype": "text/x-python",
   "name": "python",
   "nbconvert_exporter": "python",
   "pygments_lexer": "ipython3",
   "version": "3.10.13"
  }
 },
 "nbformat": 4,
 "nbformat_minor": 5
}
