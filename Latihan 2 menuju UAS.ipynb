{
 "cells": [
  {
   "cell_type": "code",
   "execution_count": null,
   "id": "3d64e76a",
   "metadata": {},
   "outputs": [],
   "source": [
    "#Gaussian Filter\n",
    "\n",
    "import cv2\n",
    "import numpy as np\n",
    "from matplotlib import pyplot as plt\n",
    "\n",
    "img = cv2.imread('noise.jpg')\n",
    "blur = cv2.GaussianBlur(img,(5,5),0)\n",
    "\n",
    "plt.subplot(121),plt.imshow(img),plt.title('original')\n",
    "plt.xticks([]),plt.yticks([])\n",
    "plt.subplot(122),plt.imshow(blur),plt.title('blurred')\n",
    "plt.xticks([]),plt.yticks([])\n",
    "plt.show()"
   ]
  },
  {
   "cell_type": "markdown",
   "id": "ada219c4",
   "metadata": {},
   "source": [
    "# Mean Filtering"
   ]
  },
  {
   "cell_type": "code",
   "execution_count": null,
   "id": "516fa9da",
   "metadata": {},
   "outputs": [],
   "source": [
    "import cv2\n",
    "import numpy as np\n",
    " \n",
    "img = cv2.imread('1.jpg')\n",
    "gray = cv2.cvtColor(img, cv2.COLOR_BGR2GRAY)\n",
    "cv2.imshow(\"output\",gray)\n",
    " \n",
    " \n",
    "height, width = gray.shape\n",
    "print (height, width)\n",
    " \n",
    "def replaceValue(a,b,mask_size):\n",
    "    filtergray = 0.0;\n",
    "    for i in range(mask_size+a)[a:]:\n",
    "        for j in range(mask_size+b)[b:]:\n",
    "            filtergray = filtergray + gray[i,j]\n",
    "    filtergray_ = filtergray/(mask_size*mask_size)\n",
    "    return filtergray_\n",
    " \n",
    "def meanFiltering(mask_size):\n",
    "    newImage = np.zeros((height-2, width-2), np.float32)\n",
    "    for i in range(height-2):\n",
    "        for j in range(width-2):\n",
    "            newValue = replaceValue(i,j,mask_size)\n",
    "            # print newValue\n",
    "            newImage[i,j] = newValue\n",
    "    img = np.array(newImage, dtype=np.uint8)\n",
    "    print (newImage)\n",
    "    return img\n",
    " \n",
    "if __name__ == '__main__':\n",
    "    # replaceValue(0,0,5) #this line just for testing replaceValue method\n",
    "    filterImage = meanFiltering(3)\n",
    "    cv2.imshow(\"Mean Filtering\", filterImage)\n",
    "    cv2.waitKey(0)\n",
    "    cv2.destroyAllWindows()"
   ]
  },
  {
   "cell_type": "markdown",
   "id": "949878fe",
   "metadata": {},
   "source": [
    "# image segmentation"
   ]
  },
  {
   "cell_type": "code",
   "execution_count": null,
   "id": "b41e39b8",
   "metadata": {},
   "outputs": [],
   "source": [
    "#pyhton Implementation\n",
    "\n",
    "import numpy as np\n",
    "import matplotlib.pyplot as plt\n",
    "from skimage import data\n",
    "\n",
    "coins = data.coins()\n",
    "hist = np.histogram(coins, bins=np.arange(0,256))\n",
    "fig,(ax1)= plt.subplots()\n",
    "ax1.imshow(coins, cmap=plt.cm.gray,interpolation='nearest')"
   ]
  },
  {
   "cell_type": "code",
   "execution_count": null,
   "id": "d3605b6a",
   "metadata": {},
   "outputs": [],
   "source": [
    "import cv2\n",
    "\n",
    "#load & resize image\n",
    "img = cv2.imread('mobil.jpg')\n",
    "img_resize = cv2.resize(img,(640,480))\n",
    "\n",
    "edged = cv2.Canny(img_resize,230,250)\n",
    "\n",
    "cv2.imshow('original image', img_resize)\n",
    "cv2.imshow('edge image', edged)\n",
    "\n",
    "cv2.waitKey(0)\n",
    "cv2.destroyAllWindows()"
   ]
  },
  {
   "cell_type": "markdown",
   "id": "4a31f9b0",
   "metadata": {},
   "source": [
    "# hough line"
   ]
  },
  {
   "cell_type": "code",
   "execution_count": null,
   "id": "27f0dac7",
   "metadata": {},
   "outputs": [],
   "source": [
    "import cv2\n",
    "import numpy as np\n",
    "\n",
    "#road image\n",
    "img = cv2.imread('road.jpg', cv2.IMREAD_COLOR)\n",
    "\n",
    "#convert the image to grayscale\n",
    "gray= cv2.cvtColor(img, cv2.COLOR_BGR2GRAY)\n",
    "\n",
    "#find the edges in the image using canny detector\n",
    "edges = cv2.Canny(gray, 50,200)\n",
    "\n",
    "#detect point that form a line\n",
    "#cv2.HaughLinesP(<image> rho,theta,threshold,minlinelength,maxlinegap)\n",
    "lines = cv2.HoughLinesP(edges, 1, np.pi/180, 50,minLineLength=100, maxLineGap=20)\n",
    "\n",
    "#draw lines on the image\n",
    "for line in lines:\n",
    "    x1, y1, x2, y2 = line[0]\n",
    "    cv2.line(img, (x1, y1), (x2, y2), (255,0,0), 3)\n",
    "    \n",
    "cv2.imshow(\"result image\", img)\n",
    "cv2.waitKey(0)\n",
    "cv2.destroyAllWindows()"
   ]
  },
  {
   "cell_type": "markdown",
   "id": "24cf0bc3",
   "metadata": {},
   "source": [
    "# simple Thresholding"
   ]
  },
  {
   "cell_type": "code",
   "execution_count": null,
   "id": "be6a2f63",
   "metadata": {},
   "outputs": [],
   "source": [
    "import cv2\n",
    "\n",
    "img = cv2.imread('number_plate.JPEG')\n",
    "\n",
    "#convert to grayscale\n",
    "img = cv2.cvtColor(img, cv2.COLOR_BGR2GRAY)\n",
    "\n",
    "# apply thresholding\n",
    "# cv2.thresholding(<image>, threshold value, max value, threshold method)\n",
    "ret1, thresh1 = cv2.threshold(img, 200, 255, cv2.THRESH_BINARY)\n",
    "ret2, thresh2 = cv2.threshold(img, 200, 255, cv2.THRESH_BINARY_INV)\n",
    "ret3, thresh3 = cv2.threshold(img, 200, 255, cv2.THRESH_TRUNC)\n",
    "ret4, thresh4 = cv2.threshold(img, 200, 255, cv2.THRESH_TOZERO)\n",
    "ret5, thresh5 = cv2.threshold(img, 200, 255, cv2.THRESH_TOZERO_INV)\n",
    "\n",
    "#show image\n",
    "cv2.imshow(\"Original Image\",img)\n",
    "cv2.imshow(\"Thresholded Binary\", thresh1)\n",
    "cv2.imshow(\"Thresholded Binary Inv\", thresh2)\n",
    "cv2.imshow(\"Thresholded Trunc\", thresh3)\n",
    "cv2.imshow(\"Thresholded To Zero\", thresh4)\n",
    "cv2.imshow(\"Thresholded To Zero Inv\", thresh5)\n",
    "\n",
    "cv2.waitKey(0)\n",
    "cv2.destroyAllWindows()"
   ]
  },
  {
   "cell_type": "markdown",
   "id": "5962c0b2",
   "metadata": {},
   "source": [
    "# Otsu's Thresholding"
   ]
  },
  {
   "cell_type": "code",
   "execution_count": null,
   "id": "618f262f",
   "metadata": {},
   "outputs": [],
   "source": [
    "import cv2 as cv\n",
    "import numpy as np\n",
    "\n",
    "img = cv.imread('number_plate_noise.jpg')\n",
    "\n",
    "gray = cv2.cvtColor(img, cv2.COLOR_BGR2GRAY)\n",
    "\n",
    "#global Thresholding\n",
    "ret1,th1 = cv.threshold(gray,127,255,cv.THRESH_BINARY)\n",
    "\n",
    "#OTSU's thresholding\n",
    "ret2,th2 = cv.threshold(gray,0,255,cv.THRESH_BINARY+cv.THRESH_OTSU)\n",
    "\n",
    "#otsu's Thresholding\n",
    "blur = cv.GaussianBlur(gray,(5,5),0)\n",
    "ret3,th3 = cv.threshold(blur,0,255,cv.THRESH_BINARY+cv.THRESH_OTSU)\n",
    "\n",
    "#show image\n",
    "cv2.imshow(\"original image\", img)\n",
    "cv2.imshow(\"Global Thresholding \",th1)\n",
    "cv2.imshow(\"Otsu's Thresholding\",th2)\n",
    "cv2.imshow(\"otsu's Thresholding after Gaussian Filter\",th3)\n",
    "\n",
    "cv2.waitKey(0)\n",
    "cv2.destroyAllWindows()"
   ]
  },
  {
   "cell_type": "markdown",
   "id": "74d093c5",
   "metadata": {},
   "source": [
    "# detecting and drawing contours"
   ]
  },
  {
   "cell_type": "code",
   "execution_count": 5,
   "id": "252ce411",
   "metadata": {},
   "outputs": [],
   "source": [
    "import cv2\n",
    "\n",
    "# Baca gambar \n",
    "img = cv2.imread('rub.jpg')\n",
    "\n",
    "gray = cv2.cvtColor(img, cv2.COLOR_BGR2GRAY)\n",
    "\n",
    "ret, thresh = cv2.threshold(gray, 225, 255, cv2.THRESH_BINARY_INV)\n",
    "# Deteksi kontur menggunakan metode CHAIN_APPROX_NONE\n",
    "contours,_ = cv2.findContours(thresh.copy(), cv2.RETR_EXTERNAL, cv2.CHAIN_APPROX_NONE)\n",
    "\n",
    "# Gambar kontur pada gambar asli\n",
    "image_with_contours = cv2.drawContours(img, contours, -1, (0,255, 255), 3)\n",
    "\n",
    "# Tampilkan gambar dengan kontur\n",
    "cv2.imshow('countours', img)\n",
    "cv2.imshow('Deteksi Kontur', image_with_contours)\n",
    "cv2.waitKey(0)\n",
    "cv2.destroyAllWindows()"
   ]
  },
  {
   "cell_type": "code",
   "execution_count": 4,
   "id": "bf0e6960",
   "metadata": {},
   "outputs": [],
   "source": [
    "import numpy as np\n",
    "import cv2\n",
    "\n",
    "# Load image\n",
    "img = cv2.imread('rub.jpg')\n",
    "\n",
    "# Convert to grayscale\n",
    "gray = cv2.cvtColor(img, cv2.COLOR_BGR2GRAY)\n",
    "\n",
    "# Convert to binary image, inverse white background to black and vice versa\n",
    "ret, thresh = cv2.threshold(gray, 225, 255, cv2.THRESH_BINARY_INV)\n",
    "\n",
    "# Apply findContours, cv2.findContours(image, mode, method)\n",
    "contours, _ = cv2.findContours(thresh.copy(), cv2.RETR_EXTERNAL, cv2.CHAIN_APPROX_NONE)\n",
    "\n",
    "for item in contours:\n",
    "    # Draw red line on each contour using cv2.drawContours(image, contours, contourIdx, color, thickness)\n",
    "    # contourIdx: Parameter indicating a contour to draw. If it is negative, all the contours are drawn\n",
    "    cv2.drawContours(img, item, -1, (0, 255, 255), 3)\n",
    "\n",
    "cv2.imshow(\"Contours\", img)\n",
    "cv2.imshow(\"Thresh\", thresh)\n",
    "cv2.waitKey(0)\n",
    "cv2.destroyAllWindows()"
   ]
  },
  {
   "cell_type": "markdown",
   "id": "31cf7e2d",
   "metadata": {},
   "source": [
    "# import library"
   ]
  },
  {
   "cell_type": "code",
   "execution_count": 5,
   "id": "a5326308",
   "metadata": {},
   "outputs": [],
   "source": [
    "import numpy as np\n",
    "import imageio\n",
    "import matplotlib.pyplot as plt\n",
    "import cv2"
   ]
  },
  {
   "cell_type": "markdown",
   "id": "fcdc2b5c",
   "metadata": {},
   "source": [
    "# read to image"
   ]
  },
  {
   "cell_type": "code",
   "execution_count": 6,
   "id": "8cd87859",
   "metadata": {},
   "outputs": [],
   "source": [
    "#img = imageio.imread(lena.jpg)\n",
    "img_bgr = cv2.imread(\"lena.jpg\")\n",
    "img = cv2.cvtColor (img_bgr,cv2.COLOR_BGR2RGB)\n",
    "height,width,channel = img_bgr.shape"
   ]
  },
  {
   "cell_type": "markdown",
   "id": "fcc12699",
   "metadata": {},
   "source": [
    "# Menampilkan Histogram Gambar RGB"
   ]
  },
  {
   "cell_type": "markdown",
   "id": "6ef7cafd",
   "metadata": {},
   "source": [
    "# membuat Variabel Untuk menyimpan Gambar"
   ]
  },
  {
   "cell_type": "code",
   "execution_count": 3,
   "id": "dde8037a",
   "metadata": {},
   "outputs": [
    {
     "ename": "NameError",
     "evalue": "name 'np' is not defined",
     "output_type": "error",
     "traceback": [
      "\u001b[1;31m---------------------------------------------------------------------------\u001b[0m",
      "\u001b[1;31mNameError\u001b[0m                                 Traceback (most recent call last)",
      "Cell \u001b[1;32mIn[3], line 1\u001b[0m\n\u001b[1;32m----> 1\u001b[0m hgr \u001b[38;5;241m=\u001b[39m \u001b[43mnp\u001b[49m\u001b[38;5;241m.\u001b[39mzeros((\u001b[38;5;241m256\u001b[39m))\n\u001b[0;32m      2\u001b[0m hgg \u001b[38;5;241m=\u001b[39m np\u001b[38;5;241m.\u001b[39mzeros((\u001b[38;5;241m256\u001b[39m))\n\u001b[0;32m      3\u001b[0m hgb \u001b[38;5;241m=\u001b[39m np\u001b[38;5;241m.\u001b[39mzeros((\u001b[38;5;241m256\u001b[39m))\n",
      "\u001b[1;31mNameError\u001b[0m: name 'np' is not defined"
     ]
    }
   ],
   "source": [
    "hgr = np.zeros((256))\n",
    "hgg = np.zeros((256))\n",
    "hgb = np.zeros((256))\n",
    "hgrgb = np.zeros ((768),dtype=np.int32)"
   ]
  },
  {
   "cell_type": "markdown",
   "id": "ef5b7bb0",
   "metadata": {},
   "source": [
    "# mengisi setiap nilai dalam array hg dengan 0"
   ]
  },
  {
   "cell_type": "code",
   "execution_count": 2,
   "id": "5f843618",
   "metadata": {},
   "outputs": [
    {
     "ename": "NameError",
     "evalue": "name 'hgrgb' is not defined",
     "output_type": "error",
     "traceback": [
      "\u001b[1;31m---------------------------------------------------------------------------\u001b[0m",
      "\u001b[1;31mNameError\u001b[0m                                 Traceback (most recent call last)",
      "Cell \u001b[1;32mIn[2], line 7\u001b[0m\n\u001b[0;32m      5\u001b[0m         hgb [x]\u001b[38;5;241m=\u001b[39m \u001b[38;5;241m0\u001b[39m\n\u001b[0;32m      6\u001b[0m \u001b[38;5;28;01mfor\u001b[39;00m x \u001b[38;5;129;01min\u001b[39;00m \u001b[38;5;28mrange\u001b[39m(\u001b[38;5;241m0\u001b[39m, \u001b[38;5;241m768\u001b[39m):\n\u001b[1;32m----> 7\u001b[0m         \u001b[43mhgrgb\u001b[49m[x]\u001b[38;5;241m=\u001b[39m\u001b[38;5;241m0\u001b[39m\n",
      "\u001b[1;31mNameError\u001b[0m: name 'hgrgb' is not defined"
     ]
    }
   ],
   "source": [
    "def makeITZero():\n",
    "    for x in range(0, 256):\n",
    "        hgr[x]= 0\n",
    "        hgg[x]=0\n",
    "        hgb [x]= 0\n",
    "for x in range(0, 768):\n",
    "        hgrgb[x]=0"
   ]
  },
  {
   "cell_type": "code",
   "execution_count": 1,
   "id": "d377b803",
   "metadata": {},
   "outputs": [
    {
     "ename": "NameError",
     "evalue": "name 'makeITZero' is not defined",
     "output_type": "error",
     "traceback": [
      "\u001b[1;31m---------------------------------------------------------------------------\u001b[0m",
      "\u001b[1;31mNameError\u001b[0m                                 Traceback (most recent call last)",
      "Cell \u001b[1;32mIn[1], line 1\u001b[0m\n\u001b[1;32m----> 1\u001b[0m \u001b[43mmakeITZero\u001b[49m()\n\u001b[0;32m      3\u001b[0m \u001b[38;5;66;03m#th = int(256/64)\u001b[39;00m\n\u001b[0;32m      4\u001b[0m temp \u001b[38;5;241m=\u001b[39m [\u001b[38;5;241m0\u001b[39m]\n",
      "\u001b[1;31mNameError\u001b[0m: name 'makeITZero' is not defined"
     ]
    }
   ],
   "source": [
    "makeITZero()\n",
    "\n",
    "#th = int(256/64)\n",
    "temp = [0]\n",
    "for y in range (0, height):\n",
    "    for x in range(0, width):\n",
    "        red= int (img[y][x][0])\n",
    "        green= int(img[y][x][1])\n",
    "        blue=int(img[y][x][2])\n",
    "        red = red + 0\n",
    "        green = green + 256\n",
    "        blue = blue +512\n",
    "        #temp.append(greend)\n",
    "        hgrgb[red] +=1\n",
    "        hgrgb[green] +=1\n",
    "        hgrgb[blue] +=1\n",
    "        \n",
    "binsrgb = np.linspace(0, 768,100)\n",
    "\n",
    "binsr = np.linspace(0,0, 100)\n",
    "plt.hist(hgr, binsr,color = \"red\", alpha=0.5)\n",
    "binsg = np.linspace(0,256,100)\n",
    "plt.hist(hgr, binsr,color = \"green\", alpha=0.5)\n",
    "binsb = np.linspace(0, 768, 100)\n",
    "plt.hist(hgr, binsr,color = \"blue\", alpha=0.5)\n",
    "#plt.hist(hgr,binsrgb,alpha=0.5)\n",
    "plt.plot(hgrgb)\n",
    "plt.title(\"histogram red green blue\")\n",
    "plt.show()"
   ]
  },
  {
   "cell_type": "markdown",
   "id": "348d8650",
   "metadata": {},
   "source": [
    "# simple with opencv "
   ]
  },
  {
   "cell_type": "code",
   "execution_count": 26,
   "id": "b14452e7",
   "metadata": {},
   "outputs": [
    {
     "data": {
      "image/png": "[encoded data removed]",
      "text/plain": [
       "<Figure size 640x480 with 1 Axes>"
      ]
     },
     "metadata": {},
     "output_type": "display_data"
    }
   ],
   "source": [
    "hist_img = cv2.calcHist([img],[0], None,[768],[0,768])\n",
    "plt.plot(hist_img)\n",
    "plt.title(\"Histogram red green blue\")\n",
    "plt.show()"
   ]
  },
  {
   "cell_type": "markdown",
   "id": "e06f7e7f",
   "metadata": {},
   "source": [
    "# Menampilkan Histogram"
   ]
  },
  {
   "cell_type": "code",
   "execution_count": null,
   "id": "c9715245",
   "metadata": {},
   "outputs": [],
   "source": [
    "makeITZero()\n",
    "for y in range (0, height):\n",
    "    for x in range(0, width):\n",
    "        red= int (img[y][x][0])\n",
    "        green= int(img[y][x][1])\n",
    "        blue=int(img[y][x][2])\n",
    "        red = red + 0\n",
    "        green = green + 256\n",
    "        blue = blue +512\n",
    "        #temp.append(greend)\n",
    "        hgrgb[red] +=1\n",
    "        hgrgb[green] +=1\n",
    "        hgrgb[blue] +=1"
   ]
  },
  {
   "cell_type": "code",
   "execution_count": 41,
   "id": "7c53201b",
   "metadata": {},
   "outputs": [
    {
     "data": {
      "image/png": "[encoded data removed]",
      "text/plain": [
       "<Figure size 2000x700 with 3 Axes>"
      ]
     },
     "metadata": {},
     "output_type": "display_data"
    }
   ],
   "source": [
    "def plot_result(red,green,blue):\n",
    "    bins = np.linspace(0,256,128)\n",
    "    \n",
    "    fig,(ax1,ax2,ax3) = plt.subplots(1,3,sharey = True)\n",
    "    \n",
    "    for ax in (ax1,ax2,ax3):\n",
    "        ax.spines[\"top\"].set_visible(False)\n",
    "        ax.spines[\"right\"].set_visible(False)\n",
    "        ax.spines[\"left\"].set_visible(False)\n",
    "        ax.spines[\"bottom\"].set_visible(False)\n",
    "        ax.grid(color='b', linestyle='--',linewidth =0.5,alpha=0.3)\n",
    "        ax.tick_params(direction='out',color='b',width='1')\n",
    "      \n",
    "    ax1.set_title('Red')\n",
    "    ax2.set_title('Green')\n",
    "    ax3.set_title('Blue')\n",
    "    \n",
    "    ax1.hist(red, bins,color=\"Red\", alpha=1)\n",
    "    ax2.hist(green, bins,color=\"Green\", alpha=1)\n",
    "    ax3.hist(blue, bins,color=\"Blue\", alpha=1)\n",
    "\n",
    "plt.rcParams['figure.figsize'] = [20, 7]\n",
    "plot_result(hgr,hgg,hgb)"
   ]
  },
  {
   "cell_type": "code",
   "execution_count": null,
   "id": "0339a4bc",
   "metadata": {},
   "outputs": [],
   "source": []
  }
 ],
 "metadata": {
  "kernelspec": {
   "display_name": "Python 3 (ipykernel)",
   "language": "python",
   "name": "python3"
  },
  "language_info": {
   "codemirror_mode": {
    "name": "ipython",
    "version": 3
   },
   "file_extension": ".py",
   "mimetype": "text/x-python",
   "name": "python",
   "nbconvert_exporter": "python",
   "pygments_lexer": "ipython3",
   "version": "3.10.9"
  }
 },
 "nbformat": 4,
 "nbformat_minor": 5
}
