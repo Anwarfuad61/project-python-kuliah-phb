{
 "cells": [
  {
   "cell_type": "code",
   "execution_count": 1,
   "id": "5f174476",
   "metadata": {
    "scrolled": false
   },
   "outputs": [
    {
     "name": "stdout",
     "output_type": "stream",
     "text": [
      "Collecting easyocr\n",
      "  Downloading easyocr-1.7.1-py3-none-any.whl (2.9 MB)\n",
      "     ---------------------------------------- 2.9/2.9 MB 3.2 MB/s eta 0:00:00\n",
      "Collecting torchvision>=0.5\n",
      "  Downloading torchvision-0.16.1-cp310-cp310-win_amd64.whl (1.1 MB)\n",
      "     ---------------------------------------- 1.1/1.1 MB 3.8 MB/s eta 0:00:00\n",
      "Requirement already satisfied: scipy in c:\\users\\hp\\anaconda3\\lib\\site-packages (from easyocr) (1.11.1)\n",
      "Collecting torch\n",
      "  Downloading torch-2.1.1-cp310-cp310-win_amd64.whl (192.3 MB)\n",
      "     -------------------------------------- 192.3/192.3 MB 2.2 MB/s eta 0:00:00\n",
      "Collecting ninja\n",
      "  Downloading ninja-1.11.1.1-py2.py3-none-win_amd64.whl (312 kB)\n",
      "     -------------------------------------- 313.0/313.0 kB 2.4 MB/s eta 0:00:00\n",
      "Requirement already satisfied: PyYAML in c:\\users\\hp\\anaconda3\\lib\\site-packages (from easyocr) (6.0)\n",
      "Requirement already satisfied: scikit-image in c:\\users\\hp\\anaconda3\\lib\\site-packages (from easyocr) (0.20.0)\n",
      "Collecting Shapely\n",
      "  Downloading shapely-2.0.2-cp310-cp310-win_amd64.whl (1.4 MB)\n",
      "     ---------------------------------------- 1.4/1.4 MB 4.0 MB/s eta 0:00:00\n",
      "Requirement already satisfied: numpy in c:\\users\\hp\\anaconda3\\lib\\site-packages (from easyocr) (1.23.5)\n",
      "Requirement already satisfied: Pillow in c:\\users\\hp\\anaconda3\\lib\\site-packages (from easyocr) (9.4.0)\n",
      "Collecting pyclipper\n",
      "  Downloading pyclipper-1.3.0.post5-cp310-cp310-win_amd64.whl (108 kB)\n",
      "     -------------------------------------- 108.2/108.2 kB 1.6 MB/s eta 0:00:00\n",
      "Collecting python-bidi\n",
      "  Downloading python_bidi-0.4.2-py2.py3-none-any.whl (30 kB)\n",
      "Collecting opencv-python-headless\n",
      "  Downloading opencv_python_headless-4.8.1.78-cp37-abi3-win_amd64.whl (38.0 MB)\n",
      "     ---------------------------------------- 38.0/38.0 MB 1.3 MB/s eta 0:00:00\n",
      "Requirement already satisfied: requests in c:\\users\\hp\\anaconda3\\lib\\site-packages (from torchvision>=0.5->easyocr) (2.31.0)\n",
      "Requirement already satisfied: fsspec in c:\\users\\hp\\anaconda3\\lib\\site-packages (from torch->easyocr) (2023.9.2)\n",
      "Requirement already satisfied: typing-extensions in c:\\users\\hp\\anaconda3\\lib\\site-packages (from torch->easyocr) (4.7.1)\n",
      "Requirement already satisfied: filelock in c:\\users\\hp\\anaconda3\\lib\\site-packages (from torch->easyocr) (3.9.0)\n",
      "Collecting sympy\n",
      "  Using cached sympy-1.12-py3-none-any.whl (5.7 MB)\n",
      "Requirement already satisfied: jinja2 in c:\\users\\hp\\anaconda3\\lib\\site-packages (from torch->easyocr) (3.1.2)\n",
      "Requirement already satisfied: networkx in c:\\users\\hp\\anaconda3\\lib\\site-packages (from torch->easyocr) (3.1)\n",
      "Requirement already satisfied: six in c:\\users\\hp\\anaconda3\\lib\\site-packages (from python-bidi->easyocr) (1.16.0)\n",
      "Requirement already satisfied: PyWavelets>=1.1.1 in c:\\users\\hp\\anaconda3\\lib\\site-packages (from scikit-image->easyocr) (1.4.1)\n",
      "Requirement already satisfied: packaging>=20.0 in c:\\users\\hp\\anaconda3\\lib\\site-packages (from scikit-image->easyocr) (23.1)\n",
      "Requirement already satisfied: tifffile>=2019.7.26 in c:\\users\\hp\\anaconda3\\lib\\site-packages (from scikit-image->easyocr) (2023.4.12)\n",
      "Requirement already satisfied: imageio>=2.4.1 in c:\\users\\hp\\anaconda3\\lib\\site-packages (from scikit-image->easyocr) (2.26.0)\n",
      "Requirement already satisfied: lazy_loader>=0.1 in c:\\users\\hp\\anaconda3\\lib\\site-packages (from scikit-image->easyocr) (0.2)\n",
      "Requirement already satisfied: MarkupSafe>=2.0 in c:\\users\\hp\\anaconda3\\lib\\site-packages (from jinja2->torch->easyocr) (2.1.1)\n",
      "Requirement already satisfied: charset-normalizer<4,>=2 in c:\\users\\hp\\anaconda3\\lib\\site-packages (from requests->torchvision>=0.5->easyocr) (2.0.4)\n",
      "Requirement already satisfied: idna<4,>=2.5 in c:\\users\\hp\\anaconda3\\lib\\site-packages (from requests->torchvision>=0.5->easyocr) (3.4)\n",
      "Requirement already satisfied: urllib3<3,>=1.21.1 in c:\\users\\hp\\anaconda3\\lib\\site-packages (from requests->torchvision>=0.5->easyocr) (1.26.16)\n",
      "Requirement already satisfied: certifi>=2017.4.17 in c:\\users\\hp\\anaconda3\\lib\\site-packages (from requests->torchvision>=0.5->easyocr) (2023.7.22)\n",
      "Collecting mpmath>=0.19\n",
      "  Using cached mpmath-1.3.0-py3-none-any.whl (536 kB)\n",
      "Installing collected packages: pyclipper, ninja, mpmath, sympy, Shapely, python-bidi, opencv-python-headless, torch, torchvision, easyocr\n",
      "Successfully installed Shapely-2.0.2 easyocr-1.7.1 mpmath-1.3.0 ninja-1.11.1.1 opencv-python-headless-4.8.1.78 pyclipper-1.3.0.post5 python-bidi-0.4.2 sympy-1.12 torch-2.1.1 torchvision-0.16.1\n"
     ]
    }
   ],
   "source": [
    "!pip install easyocr"
   ]
  },
  {
   "cell_type": "code",
   "execution_count": 20,
   "id": "b02c9c83",
   "metadata": {},
   "outputs": [
    {
     "name": "stderr",
     "output_type": "stream",
     "text": [
      "Neither CUDA nor MPS are available - defaulting to CPU. Note: This module is much faster with a GPU.\n"
     ]
    }
   ],
   "source": [
    "import cv2\n",
    "import tkinter as tk\n",
    "from tkinter import filedialog\n",
    "from PIL import Image, ImageTk\n",
    "import easyocr\n",
    "\n",
    "class ComputerVisionApp:\n",
    "    def __init__(self, master):\n",
    "        self.master = master\n",
    "        self.master.title(\"Computer Vision App\")\n",
    "        self.reader = easyocr.Reader(['en'])  #menginstall EasyOCR dengan bahasa Inggris\n",
    "        \n",
    "        # create widgets\n",
    "        self.label = tk.Label(self.master, text=\"Select an image:\")\n",
    "        self.label.pack()\n",
    "        \n",
    "        self.load_button = tk.Button(self.master, text=\"Load Image\", command=self.load_image)\n",
    "        self.load_button.pack()\n",
    "        \n",
    "        self.process_button = tk.Button(self.master, text=\"Process Image\", command=self.process_image)\n",
    "        self.process_button.pack()\n",
    "        \n",
    "        self.quit_button = tk.Button(self.master, text=\"Quit\", command=self.master.destroy)\n",
    "        self.quit_button.pack()\n",
    "        \n",
    "        self.image_label = tk.Label(self.master)\n",
    "        self.image_label.pack()\n",
    "        \n",
    "        # Initialize variables\n",
    "        self.image_path = None\n",
    "        self.cv_image = None\n",
    "        \n",
    "    def load_image(self):\n",
    "        self.image_path = filedialog.askopenfilename()\n",
    "        if self.image_path:\n",
    "            self.cv_image = cv2.imread(self.image_path)\n",
    "            self.show_image(self.cv_image)\n",
    "            \n",
    "    def process_image(self):\n",
    "        if self.cv_image is not None:\n",
    "            hasil = self.reader.readtext(self.cv_image)\n",
    "            for detection in hasil:\n",
    "                box, text, score = detection\n",
    "                a, b = box[0]\n",
    "                c, d = box[2]\n",
    "                cv2.rectangle(self.cv_image, (int(a), int(b)), (int(c), int(d)), (0, 255, 0), 2)\n",
    "                cv2.putText(self.cv_image, text, (int(a), int(b)), cv2.FONT_HERSHEY_COMPLEX, 0.8, (0, 255, 0), 2)\n",
    "    \n",
    "            self.show_image(self.cv_image)\n",
    "\n",
    "    def show_image(self, image):\n",
    "        # Convert the OpenCV image to a format that Tkinter can display \n",
    "        image = cv2.cvtColor(image, cv2.COLOR_BGR2RGB) \n",
    "        image = Image.fromarray(image) \n",
    "        image = ImageTk.PhotoImage(image=image)\n",
    "\n",
    "        # Update the image label\n",
    "        self.image_label.configure(image=image)\n",
    "        self.image_label.image = image \n",
    "\n",
    "def main():\n",
    "    root = tk.Tk()\n",
    "    app = ComputerVisionApp(root)\n",
    "    root.mainloop()\n",
    "    \n",
    "if __name__ == \"__main__\":\n",
    "    main()\n"
   ]
  }
 ],
 "metadata": {
  "kernelspec": {
   "display_name": "Python 3 (ipykernel)",
   "language": "python",
   "name": "python3"
  },
  "language_info": {
   "codemirror_mode": {
    "name": "ipython",
    "version": 3
   },
   "file_extension": ".py",
   "mimetype": "text/x-python",
   "name": "python",
   "nbconvert_exporter": "python",
   "pygments_lexer": "ipython3",
   "version": "3.10.13"
  }
 },
 "nbformat": 4,
 "nbformat_minor": 5
}
