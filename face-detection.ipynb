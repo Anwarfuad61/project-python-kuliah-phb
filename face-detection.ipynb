{
 "cells": [
  {
   "cell_type": "code",
   "execution_count": null,
   "id": "83803042",
   "metadata": {},
   "outputs": [],
   "source": [
    "\n",
    "#  Project: face-detection\n",
    "\n",
    "\n",
    "import cv2\n",
    "import os\n",
    "# Untuk mengambil gambar menggunakan streaming video\n",
    "cap = cv2.VideoCapture(0)\n",
    "# Load lokasi hasil training dari haar cascade\n",
    "faceCascade = cv2.CascadeClassifier(os.path.join(\"haarcascade_frontalface_default.xml\"))\n",
    "\n",
    "cv2.namedWindow(\"face detection\", cv2.WINDOW_NORMAL)\n",
    "\n",
    "# Looping terus untuk membaca gambar frame demi frame\n",
    "while True:\n",
    "    ret, frame = cap.read()\n",
    "    if frame is None:\n",
    "        continue\n",
    "    # Ubah gambar dari BRG ke grayscale\n",
    "    gray = cv2.cvtColor(frame.copy(), cv2.COLOR_BGR2GRAY)\n",
    "\n",
    "    # Hasil dari deteksi wajah adalah list rectangle atau kotak\n",
    "    faces = faceCascade.detectMultiScale(gray, scaleFactor=1.2, minNeighbors=5, minSize=(30, 30))\n",
    "    print(\"found {0} faces!\".format(len(faces)))\n",
    "\n",
    "    # Membuat kotak dengan opencv berdasarkan wajah-wajah yang terdeteksi\n",
    "    for (x, y, w, h) in faces:\n",
    "        cv2.rectangle(frame, (x, y), (x + w, y + h), (0, 0, 255), 2)\n",
    "\n",
    "    cv2.imshow(\"face detection\", frame)\n",
    "    # Frame akan keluar ketika tombol q pada keyboard ditekan\n",
    "    if cv2.waitKey(1) & 0xFF == ord('q'):\n",
    "        break\n",
    "\n",
    "# Jika selesai release semua resource\n",
    "cap.release()\n",
    "cv2.destroyAllWindows()"
   ]
  },
  {
   "cell_type": "code",
   "execution_count": null,
   "id": "893bddd2",
   "metadata": {},
   "outputs": [],
   "source": []
  }
 ],
 "metadata": {
  "kernelspec": {
   "display_name": "Python 3 (ipykernel)",
   "language": "python",
   "name": "python3"
  },
  "language_info": {
   "codemirror_mode": {
    "name": "ipython",
    "version": 3
   },
   "file_extension": ".py",
   "mimetype": "text/x-python",
   "name": "python",
   "nbconvert_exporter": "python",
   "pygments_lexer": "ipython3",
   "version": "3.10.13"
  }
 },
 "nbformat": 4,
 "nbformat_minor": 5
}
