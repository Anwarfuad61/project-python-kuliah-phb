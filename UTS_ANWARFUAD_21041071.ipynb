{
 "cells": [
  {
   "cell_type": "markdown",
   "id": "eda46e97",
   "metadata": {},
   "source": [
    "# <span style=\"color: red;\">Image Reflection</span>"
   ]
  },
  {
   "cell_type": "code",
   "execution_count": 1,
   "id": "b0b20771",
   "metadata": {},
   "outputs": [],
   "source": [
    "import numpy as np\n",
    "import cv2 as cv\n",
    "\n",
    "img = cv.imread('1.jpg', 0)\n",
    "rows, cols, = img.shape\n",
    "M = np.float32([[1, 0, 0],\n",
    "               [0, -1, rows],\n",
    "               [0, 0, 1]])\n",
    "reflected_img = cv.warpPerspective(img, M,\n",
    "                                  (int(cols),\n",
    "                                  int(rows)))\n",
    "cv.imshow('img', reflected_img)\n",
    "cv.imwrite('reflected_out.jpg', reflected_img)\n",
    "cv.waitKey(0)\n",
    "cv.destroyAllWindows()"
   ]
  },
  {
   "cell_type": "markdown",
   "id": "99ede968",
   "metadata": {},
   "source": [
    "# <span style=\"color: red;\">IMAGE TRANSLATION</span>"
   ]
  },
  {
   "cell_type": "code",
   "execution_count": null,
   "id": "9bab8dfb",
   "metadata": {},
   "outputs": [],
   "source": [
    "import numpy as np\n",
    "import cv2 as cv\n",
    "\n",
    "img =cv.imread('1.jpg', 0)\n",
    "rows, cols = img.shape\n",
    "M = np.float32([[1, 0, 100], [0, 1, 50]])\n",
    "dst = cv.warpAffine(img, M, (cols, rows))\n",
    "\n",
    "cv.imshow('img', dst)\n",
    "cv.waitKey(0)\n",
    "cv.destroyAllWindows()"
   ]
  },
  {
   "cell_type": "markdown",
   "id": "861d40bb",
   "metadata": {},
   "source": [
    "\n",
    "# <span style=\"color: red;\">Image Rotation</span>"
   ]
  },
  {
   "cell_type": "code",
   "execution_count": 1,
   "id": "6bde42a6",
   "metadata": {},
   "outputs": [],
   "source": [
    "import numpy as np\n",
    "import cv2 as cv\n",
    "#Pada baris pertama dan kedua, dilakukan import library NumPy dan OpenCV dengan alias \"np\" dan \"cv\" secara berturut-turut.\n",
    "img = cv.imread('1.jpg', 0)\n",
    "rows, cols, = img.shape\n",
    "#Baris ini akan mengambil dimensi baris dan kolom dari gambar yang sudah dibaca menggunakan cv.imread(). Dimensi tersebut akan disimpan dalam variabel \"rows\" dan \"cols\".\n",
    "M = np.float32([[1, 0, 0],\n",
    "               [0, -1, rows],\n",
    "               [0, 0, 1]])\n",
    "#Pada baris ini, matriks transformasi affine 2D disiapkan menggunakan NumPy. Matriks ini akan mengubah\n",
    "#posisi titik-titik pada gambar dengan cara mengalikan dengan matriks ini. Matriks ini akan memutar gambar sebesar 30 derajat dengan memutar pusat rotasi pada titik (cols/2, rows/2). \n",
    "#Selain itu, gambar juga akan diresize dengan faktor skala 0.6.\n",
    "img_rotation = cv.warpAffine(img, cv.getRotationMatrix2D((cols/2, rows/2), 30, 0.6),\n",
    "                                                         (cols, rows))\n",
    "#Pada baris ini, fungsi cv.warpAffine() digunakan untuk menerapkan transformasi affine yang \n",
    "#sudah disiapkan sebelumnya (M) ke gambar (img). Hasil transformasi tersebut akan disimpan pada variabel \"img_rotation\".\n",
    "cv.imshow('img', img_rotation)\n",
    "cv.imwrite('rotation_out.png', img_rotation)\n",
    "#Pada baris terakhir, gambar hasil rotasi akan ditampilkan pada jendela yang diberi judul \n",
    "#\"img\" menggunakan fungsi cv.imshow(). Selain itu, gambar juga akan disimpan sebagai file\n",
    "#'rotation_out.png' menggunakan fungsi cv.imwrite(). Fungsi cv.waitKey(0) akan menunggu tombol apa pun ditekan pada jendela gambar sebelum menutupnya dengan fungsi cv.destroyAllWindows().\n",
    "cv.waitKey(0)\n",
    "cv.destroyAllWindows()\n"
   ]
  },
  {
   "cell_type": "markdown",
   "id": "b541da98",
   "metadata": {},
   "source": [
    "# <span style=\"color: red;\"> Image Cropping</span>"
   ]
  },
  {
   "cell_type": "code",
   "execution_count": null,
   "id": "35891963",
   "metadata": {},
   "outputs": [],
   "source": [
    "import numpy as np\n",
    "import cv2 as cv\n",
    "img = cv.imread('1.jpg', 0)\n",
    "cropped_img = img[100:300, 100:300]\n",
    "#Pada baris ini, dilakukan pemotongan gambar dengan menggunakan slicing pada array \n",
    "#NumPy yang merepresentasikan gambar. Dalam hal ini, bagian gambar yang dipotong\n",
    "#adalah bagian dari baris 100 sampai 300 dan kolom 100 sampai 300. Hasil pemotongan gambar akan disimpan pada variabel \"cropped_img\".\n",
    "cv.imshow('img', cropped_img)\n",
    "#Pada baris ini, gambar hasil pemotongan akan ditampilkan pada jendela yang diberi judul \"img\" menggunakan fungsi cv.imshow().\n",
    "cv.imwrite('cropped_out.jpg', cropped_img)\n",
    "#Pada baris ini, gambar hasil pemotongan akan disimpan ke dalam\n",
    "#file baru dengan nama 'cropped_out.jpg' menggunakan fungsi cv.imwrite().\n",
    "cv.waitKey(0)\n",
    "cv.destroyAllWindows()"
   ]
  },
  {
   "cell_type": "markdown",
   "id": "b9652954",
   "metadata": {},
   "source": [
    "#   <span style=\"color: yellow;\">Filter Lolos Bawah</span>"
   ]
  },
  {
   "cell_type": "code",
   "execution_count": 1,
   "id": "bef62479",
   "metadata": {},
   "outputs": [
    {
     "data": {
      "text/plain": [
       "-1"
      ]
     },
     "execution_count": 1,
     "metadata": {},
     "output_type": "execute_result"
    }
   ],
   "source": [
    "import cv2\n",
    "import numpy as np\n",
    "#Pada baris pertama dan kedua, dilakukan import library NumPy dan OpenCV dengan alias \"np\" dan \"cv\" secara berturut-turut.\n",
    "\n",
    "citra = cv2.imread('1.jpg', 0)\n",
    "#gambar dengan nama file '1.jpg' dibaca menggunakan fungsi cv2.imread() dengan parameter\n",
    "#kedua bernilai 0 yang menandakan bahwa gambar akan dibaca dalam format grayscale. \n",
    "#Hasil pembacaan gambar akan disimpan dalam variabel \"citra\".\n",
    "kernel = np.float32([[1,1,1],\n",
    "                   [1,1,1],\n",
    "                   [1,1,1]]) / 9\n",
    "#dilakukan pembuatan kernel filter lolos bawah dengan menggunakan array NumPy. \n",
    "#Kernel filter lolos bawah yang digunakan pada kode ini adalah kernel dengan ukuran 3x3 dan nilai elemen sebesar 1/9. \n",
    "#Kernel tersebut akan digunakan untuk melakukan konvolusi dengan gambar pada baris berikutnya.\n",
    "terfilter = cv2.filter2D(citra, -1, kernel)\n",
    "#Pada baris ini, dilakukan konvolusi antara gambar \"citra\" dengan kernel filter lolos bawah yang telah dibuat pada baris\n",
    "#sebelumnya menggunakan fungsi cv2.filter2D(). Hasil konvolusi akan disimpan pada variabel \"terfilter\".\n",
    "hasil = np.hstack((citra, terfilter))\n",
    "#Pada baris ini, gambar asli \"citra\" dan hasil konvolusi \"terfilter\" digabungkan\n",
    "#secara horizontal menggunakan fungsi np.hstack() dan disimpan pada variabel \"hasil\".\n",
    "cv2.imshow('Hasil', hasil)\n",
    "cv2.waitKey(0)\n",
    "#Pada baris ini, gambar hasil konvolusi akan ditampilkan pada jendela yang diberi judul \"Hasil\"\n",
    "#menggunakan fungsi cv2.imshow(). Fungsi cv2.waitKey(0) akan menunggu tombol apa pun ditekan pada jendela \n",
    "#gambar sebelum menutupnya."
   ]
  },
  {
   "cell_type": "markdown",
   "id": "5e0aef2c",
   "metadata": {},
   "source": [
    "# <span style=\"color: yellow;\">Filter Penonjolan   </span>"
   ]
  },
  {
   "cell_type": "code",
   "execution_count": 2,
   "id": "be8b8129",
   "metadata": {},
   "outputs": [
    {
     "data": {
      "text/plain": [
       "-1"
      ]
     },
     "execution_count": 2,
     "metadata": {},
     "output_type": "execute_result"
    }
   ],
   "source": [
    "import cv2\n",
    "import numpy as np\n",
    "#\n",
    "citra = cv2.imread('1.jpg', 0)\n",
    "#Pada baris ini, gambar dengan nama file '1.jpg' dibaca menggunakan fungsi cv2.imread() \n",
    "#dengan parameter kedua bernilai 0 yang menandakan bahwa gambar akan dibaca dalam format grayscale.\n",
    "#Hasil pembacaan gambar akan disimpan dalam variabel \"citra\".\n",
    "kernel = np.float32([[-2,0,0],\n",
    "                   [0, 0, 0],\n",
    "                   [0, 0, 2]])\n",
    "#Pada baris ini, matriks kernel untuk filter penonjolan disiapkan menggunakan NumPy. \n",
    "#Matriks ini akan digunakan untuk melakukan konvolusi dengan gambar yang sudah dibaca. \n",
    "#Kernel ini akan memperjelas tepi gambar dengan mengurangi intensitas piksel\n",
    "#pada tepi objek dan meningkatkan intensitas piksel pada tepi latar belakang.\n",
    "terfilter = cv2.filter2D(citra, -1, kernel)\n",
    "#Pada baris ini, fungsi cv2.filter2D() digunakan untuk menerapkan filter penonjolan yang sudah disiapkan sebelumnya (kernel)\n",
    "#ke gambar (citra). Hasil filter tersebut akan disimpan pada variabel \"terfilter\".\n",
    "hasil = np.hstack(((citra, terfilter)))\n",
    "#Pada baris ini, dua gambar (citra dan terfilter) akan digabungkan secara horizontal \n",
    "#menggunakan fungsi np.hstack(). Hasil gabungan tersebut akan disimpan pada variabel \"hasil\".\n",
    "cv2.imshow('Hasil', hasil)\n",
    "cv2.waitKey(0)"
   ]
  },
  {
   "cell_type": "code",
   "execution_count": null,
   "id": "38a513fd",
   "metadata": {},
   "outputs": [],
   "source": []
  }
 ],
 "metadata": {
  "kernelspec": {
   "display_name": "Python 3 (ipykernel)",
   "language": "python",
   "name": "python3"
  },
  "language_info": {
   "codemirror_mode": {
    "name": "ipython",
    "version": 3
   },
   "file_extension": ".py",
   "mimetype": "text/x-python",
   "name": "python",
   "nbconvert_exporter": "python",
   "pygments_lexer": "ipython3",
   "version": "3.10.9"
  }
 },
 "nbformat": 4,
 "nbformat_minor": 5
}
