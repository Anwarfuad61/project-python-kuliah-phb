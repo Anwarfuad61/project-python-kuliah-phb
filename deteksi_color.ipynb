{
 "cells": [
  {
   "cell_type": "markdown",
   "id": "10277dc0",
   "metadata": {},
   "source": [
    "# converter"
   ]
  },
  {
   "cell_type": "code",
   "execution_count": null,
   "id": "e49531ee",
   "metadata": {},
   "outputs": [],
   "source": [
    "##import sys\n",
    "#import numpy as np\n",
    "#import cv2\n",
    " \n",
    "#if len(sys.argv) != 4:\n",
    "#    print(\"Usage: python nama_skrip.py blue green red\")\n",
    "#    sys.exit(1)\n",
    "#merubah warna rgb ke hsv\n",
    "\n",
    "#blue = sys.argv[1]\n",
    "#green = sys.argv[2]\n",
    "#red = sys.argv[3]  \n",
    " \n",
    "#color = np.uint8([[[blue, green, red]]])\n",
    "#hsv_color = cv2.cvtColor(color, cv2.COLOR_BGR2HSV)\n",
    " \n",
    "#hue = hsv_color[0][0][0]\n",
    " \n",
    "#print(\"Lower bound is :\"),\n",
    "#print(\"[\" + str(hue-10) + \", 100, 100]\\n\")\n",
    " \n",
    "#print(\"Upper bound is :\"),\n",
    "#print(\"[\" + str(hue + 10) + \", 255, 255]\")"
   ]
  },
  {
   "cell_type": "markdown",
   "id": "542ba90a",
   "metadata": {},
   "source": [
    "# deteksi color"
   ]
  },
  {
   "cell_type": "code",
   "execution_count": 5,
   "id": "f62d10d1",
   "metadata": {},
   "outputs": [],
   "source": [
    "import cv2\n",
    "import numpy as np\n",
    "\n",
    "img = cv2.imread('circle.png', 1)\n",
    "hsv = cv2.cvtColor(img, cv2.COLOR_BGR2HSV)\n",
    "\n",
    "#mendeteksi warna merah\n",
    "\n",
    "lower_range = np.array([160, 100, 100])\n",
    "upper_range = np.array([180, 255, 255])\n",
    "mask = cv2.inRange(hsv, lower_range, upper_range)\n",
    "\n",
    "cv2.imshow('mask',mask)\n",
    "cv2.imshow('image', img)\n",
    "\n",
    "cv2.waitKey(0)\n",
    "\n",
    "\n",
    "cv2.destroyAllWindows()"
   ]
  },
  {
   "cell_type": "markdown",
   "id": "a7bf70e3",
   "metadata": {},
   "source": [
    "# dominan color"
   ]
  },
  {
   "cell_type": "code",
   "execution_count": null,
   "id": "483f6ba5",
   "metadata": {},
   "outputs": [],
   "source": [
    "import cv2\n",
    "import numpy as np\n",
    "from skimage import io\n",
    "\n",
    "img = io.imread('mountain.png')[:, :, :-1]\n",
    "\n",
    "average = img.mean(axis=0).mean(axis=0)\n",
    "\n",
    "pixels = np.float32(img.reshape(-1, 3))\n",
    "\n",
    "n_colors = 5\n",
    "criteria = (cv2.TERM_CRITERIA_EPS + cv2.TERM_CRITERIA_MAX_ITER, 200, .1)\n",
    "flags = cv2.KMEANS_RANDOM_CENTERS\n",
    "\n",
    "_, labels, palette = cv2.kmeans(pixels, n_colors, None, criteria, 10, flags)\n",
    "_, counts = np.unique(labels, return_counts=True)\n",
    "\n",
    "dominant = palette[np.argmax(counts)]\n",
    "\n",
    "import matplotlib.pyplot as plt\n",
    "\n",
    "avg_patch = np.ones(shape=img.shape, dtype=np.uint8)*np.uint8(average)\n",
    "\n",
    "indices = np.argsort(counts)[::-1]   \n",
    "freqs = np.cumsum(np.hstack([[0], counts[indices]/counts.sum()]))\n",
    "rows = np.int_(img.shape[0]*freqs)\n",
    "\n",
    "dom_patch = np.zeros(shape=img.shape, dtype=np.uint8)\n",
    "for i in range(len(rows) - 1):\n",
    "    dom_patch[rows[i]:rows[i + 1], :, :] += np.uint8(palette[indices[i]])\n",
    "\n",
    "fig, (ax0, ax1) = plt.subplots(1, 2, figsize=(12,6))\n",
    "ax0.imshow(avg_patch)\n",
    "ax0.set_title('Average color')\n",
    "ax0.axis('off')\n",
    "ax1.imshow(dom_patch)\n",
    "ax1.set_title('Dominant colors')\n",
    "ax1.axis('off')\n",
    "plt.show(fig)"
   ]
  },
  {
   "cell_type": "markdown",
   "id": "9e3563cc",
   "metadata": {},
   "source": [
    "# selection color"
   ]
  },
  {
   "cell_type": "code",
   "execution_count": 6,
   "id": "a0ed5950",
   "metadata": {},
   "outputs": [
    {
     "ename": "error",
     "evalue": "OpenCV(4.7.0) D:\\a\\opencv-python\\opencv-python\\opencv\\modules\\highgui\\src\\window_w32.cpp:2576: error: (-27:Null pointer) NULL window: 'threshold' in function 'cvGetTrackbarPos'\n",
     "output_type": "error",
     "traceback": [
      "\u001b[1;31m---------------------------------------------------------------------------\u001b[0m",
      "\u001b[1;31merror\u001b[0m                                     Traceback (most recent call last)",
      "Cell \u001b[1;32mIn[6], line 32\u001b[0m\n\u001b[0;32m     27\u001b[0m img\u001b[38;5;241m=\u001b[39mcv2\u001b[38;5;241m.\u001b[39mimread(\u001b[38;5;124m'\u001b[39m\u001b[38;5;124mrainbow.png\u001b[39m\u001b[38;5;124m'\u001b[39m)\n\u001b[0;32m     29\u001b[0m \u001b[38;5;28;01mwhile\u001b[39;00m(\u001b[38;5;241m1\u001b[39m):\n\u001b[0;32m     30\u001b[0m \n\u001b[0;32m     31\u001b[0m     \u001b[38;5;66;03m#mengambil nilai posisi terakhir dari trackbar\u001b[39;00m\n\u001b[1;32m---> 32\u001b[0m     hul \u001b[38;5;241m=\u001b[39m \u001b[43mcv2\u001b[49m\u001b[38;5;241;43m.\u001b[39;49m\u001b[43mgetTrackbarPos\u001b[49m\u001b[43m(\u001b[49m\u001b[43mhl\u001b[49m\u001b[43m,\u001b[49m\u001b[43m \u001b[49m\u001b[38;5;124;43m'\u001b[39;49m\u001b[38;5;124;43mthreshold\u001b[39;49m\u001b[38;5;124;43m'\u001b[39;49m\u001b[43m)\u001b[49m\n\u001b[0;32m     33\u001b[0m     huh \u001b[38;5;241m=\u001b[39m cv2\u001b[38;5;241m.\u001b[39mgetTrackbarPos(hh, \u001b[38;5;124m'\u001b[39m\u001b[38;5;124mthreshold\u001b[39m\u001b[38;5;124m'\u001b[39m)\n\u001b[0;32m     34\u001b[0m     sal \u001b[38;5;241m=\u001b[39m cv2\u001b[38;5;241m.\u001b[39mgetTrackbarPos(sl, \u001b[38;5;124m'\u001b[39m\u001b[38;5;124mthreshold\u001b[39m\u001b[38;5;124m'\u001b[39m)\n",
      "\u001b[1;31merror\u001b[0m: OpenCV(4.7.0) D:\\a\\opencv-python\\opencv-python\\opencv\\modules\\highgui\\src\\window_w32.cpp:2576: error: (-27:Null pointer) NULL window: 'threshold' in function 'cvGetTrackbarPos'\n"
     ]
    }
   ],
   "source": [
    "import cv2\n",
    "import numpy as np\n",
    "\n",
    "def nothing(x):\n",
    "    pass\n",
    "\n",
    "# set trackbar\n",
    "hh = 'hue high'\n",
    "hl = 'hue low'\n",
    "sh = 'saturation high'\n",
    "sl = 'saturation low'\n",
    "vh = 'value high'\n",
    "vl = 'value low'\n",
    "\n",
    "#set nama window untuk trackbar\n",
    "cv2.namedWindow('threshold')\n",
    "\n",
    "# set range trackbar\n",
    "cv2.createTrackbar(hh, 'threshold', 179, 179, nothing)\n",
    "cv2.createTrackbar(hl, 'threshold', 0, 179, nothing)\n",
    "cv2.createTrackbar(sh, 'threshold', 255, 255, nothing)\n",
    "cv2.createTrackbar(sl, 'threshold', 0, 255, nothing)\n",
    "cv2.createTrackbar(vh, 'threshold', 255, 255, nothing)\n",
    "cv2.createTrackbar(vl, 'threshold', 0, 255, nothing)\n",
    "\n",
    "#load image\n",
    "img=cv2.imread('rainbow.png')\n",
    "\n",
    "while(1):\n",
    "\n",
    "    #mengambil nilai posisi terakhir dari trackbar\n",
    "    hul = cv2.getTrackbarPos(hl, 'threshold')\n",
    "    huh = cv2.getTrackbarPos(hh, 'threshold')\n",
    "    sal = cv2.getTrackbarPos(sl, 'threshold')\n",
    "    sah = cv2.getTrackbarPos(sh, 'threshold')\n",
    "    val = cv2.getTrackbarPos(vl, 'threshold')\n",
    "    vah = cv2.getTrackbarPos(vh, 'threshold')\n",
    "\n",
    "    #mengelompokkan nilai threshold dari batas bawah dan batas atas\n",
    "    #kedalam variabel array \n",
    "    hsvl=np.array([hul,sal,val],np.uint8)\n",
    "    hsvh=np.array([huh,sah,vah],np.uint8)\n",
    "\n",
    "    #mengkonversi colorspace atau ruang warna dari RGB ke HSV\n",
    "    hsv= cv2.cvtColor(img, cv2.COLOR_BGR2HSV)\n",
    "\n",
    "    #memasang atau menerapkan threshold untuk HSV\n",
    "    mask = cv2.inRange(hsv,hsvl,hsvh)\n",
    "\n",
    "    #masking image \n",
    "    res = cv2.bitwise_and(img, img, mask=mask)\n",
    "\n",
    "    #menampilkan image \n",
    "    cv2.imshow('mask',mask)\n",
    "    cv2.imshow('res',res)\n",
    "\n",
    "    #tekan q untuk close program\n",
    "    if cv2.waitKey(1)&0xFF==ord('q'):\n",
    "        break\n",
    "    \n",
    "cv2.destroyAllWindows()\n",
    "\n"
   ]
  },
  {
   "cell_type": "code",
   "execution_count": null,
   "id": "966fa7df",
   "metadata": {},
   "outputs": [],
   "source": []
  }
 ],
 "metadata": {
  "kernelspec": {
   "display_name": "Python 3 (ipykernel)",
   "language": "python",
   "name": "python3"
  },
  "language_info": {
   "codemirror_mode": {
    "name": "ipython",
    "version": 3
   },
   "file_extension": ".py",
   "mimetype": "text/x-python",
   "name": "python",
   "nbconvert_exporter": "python",
   "pygments_lexer": "ipython3",
   "version": "3.10.13"
  }
 },
 "nbformat": 4,
 "nbformat_minor": 5
}
