{
 "cells": [
  {
   "cell_type": "code",
   "execution_count": 2,
   "id": "573568bd",
   "metadata": {},
   "outputs": [],
   "source": [
    "import cv2\n",
    "import numpy as np\n",
    "\n",
    "\n",
    "img = cv2.imread('1.jpg')\n",
    "\n",
    "\n",
    "cv2.imshow('Anwar fuad', img)\n",
    "\n",
    "\n",
    "cv2.waitKey(0)\n",
    "cv2.destroyAllWindows()"
   ]
  },
  {
   "cell_type": "code",
   "execution_count": 4,
   "id": "a1a7a1f0",
   "metadata": {},
   "outputs": [
    {
     "name": "stdout",
     "output_type": "stream",
     "text": [
      "Height: 1080\n",
      "Width: 1574\n",
      "Channels: 3\n"
     ]
    }
   ],
   "source": [
    "import cv2\n",
    "\n",
    "image = cv2.imread('1.jpg')\n",
    "\n",
    "height, width, channels = image.shape\n",
    "\n",
    "print('Height:', height)\n",
    "print('Width:', width)\n",
    "print('Channels:', channels)"
   ]
  },
  {
   "cell_type": "code",
   "execution_count": 6,
   "id": "0c6971ed",
   "metadata": {},
   "outputs": [
    {
     "name": "stdout",
     "output_type": "stream",
     "text": [
      "[50 77 30  1 22]\n"
     ]
    }
   ],
   "source": [
    "import numpy as np\n",
    "\n",
    "data = np.array([50,77,30,1,22])\n",
    "print(data)"
   ]
  },
  {
   "cell_type": "code",
   "execution_count": 7,
   "id": "17cfa6dc",
   "metadata": {},
   "outputs": [
    {
     "data": {
      "text/plain": [
       "numpy.ndarray"
      ]
     },
     "execution_count": 7,
     "metadata": {},
     "output_type": "execute_result"
    }
   ],
   "source": [
    "type(data)"
   ]
  },
  {
   "cell_type": "code",
   "execution_count": 1,
   "id": "bb96f354",
   "metadata": {},
   "outputs": [
    {
     "name": "stdout",
     "output_type": "stream",
     "text": [
      "[[1 2 3]\n",
      " [4 5 6]\n",
      " [7 8 9]]\n"
     ]
    }
   ],
   "source": [
    "import numpy as np\n",
    "\n",
    "matriks = np.array([[1,2,3],[4,5,6],[7,8,9]])\n",
    "print(matriks)"
   ]
  },
  {
   "cell_type": "code",
   "execution_count": 4,
   "id": "a221850b",
   "metadata": {},
   "outputs": [
    {
     "name": "stdout",
     "output_type": "stream",
     "text": [
      "[[[ 1  2  3]\n",
      "  [ 4  5  6]\n",
      "  [ 7  8  9]]\n",
      "\n",
      " [[20 21 22]\n",
      "  [23 24 25]\n",
      "  [26 27 28]]]\n"
     ]
    }
   ],
   "source": [
    "# array dimensi 3#\n",
    "\n",
    "tigaDim = np.array([[[1,2,3],[4,5,6],[7,8,9]],\n",
    "                  [[20,21,22],[23,24,25],[26,27,28]]])\n",
    "print(tigaDim)"
   ]
  },
  {
   "cell_type": "code",
   "execution_count": 5,
   "id": "538358d0",
   "metadata": {},
   "outputs": [
    {
     "name": "stdout",
     "output_type": "stream",
     "text": [
      "2\n",
      "3\n",
      "3\n"
     ]
    }
   ],
   "source": [
    "jumBaris = tigaDim.shape[0]\n",
    "jumKolom = tigaDim.shape[1]\n",
    "jumKedalaman = tigaDim.shape[2]\n",
    "\n",
    "print(jumBaris)\n",
    "print(jumKolom)\n",
    "print(jumKedalaman)"
   ]
  },
  {
   "cell_type": "code",
   "execution_count": 3,
   "id": "e5f5e850",
   "metadata": {},
   "outputs": [],
   "source": [
    "import cv2\n",
    "import numpy as np\n",
    "\n",
    "dany2 = cv2.imread('1.jpg')\n",
    "dany3 = cv2.imread('1.jpg')\n",
    "\n",
    "weightedSum = cv2.addWeighted(dany2, 0.5, dany3, 0.4, 0)\n",
    "\n",
    "cv2.imshow('anwar fuad', weightedSum)\n",
    "\n",
    "if cv2.waitKey(0) & 0xff == 27:\n",
    "    cv2.destroyAllWindows()"
   ]
  },
  {
   "cell_type": "code",
   "execution_count": 14,
   "id": "ced8cedf",
   "metadata": {},
   "outputs": [],
   "source": [
    "import cv2\n",
    "\n",
    "img = cv2.imread('1.jpg',1)\n",
    "\n",
    "\n",
    "resize1 = cv2.resize(img, (256,256))\n",
    "resize2 = cv2.resize(img, (0,0), fx = 0.5, fy = 0.5)\n",
    "\n",
    "cv2.imwrite('resize_new.png', resize1)\n",
    "cv2.imwrite('resize_new1.png', resize2)\n",
    "\n",
    "cv2.imshow('anwar1', resize1)\n",
    "cv2.imshow('anwar2', resize2)\n",
    "cv2.waitKey(0)\n",
    "cv2.destroyAllWindows()\n"
   ]
  },
  {
   "cell_type": "markdown",
   "id": "7763de11",
   "metadata": {},
   "source": [
    "# Tutorial Rotate"
   ]
  },
  {
   "cell_type": "code",
   "execution_count": 13,
   "id": "bae0d7da",
   "metadata": {},
   "outputs": [],
   "source": [
    "import cv2\n",
    "img = cv2.imread('1.jpg',1)\n",
    "rotate1 = cv2.rotate(img, cv2.ROTATE_90_CLOCKWISE)\n",
    "rotate2 = cv2.rotate(img, cv2.ROTATE_90_COUNTERCLOCKWISE)\n",
    "\n",
    "cv2.imshow('anwar', rotate1)\n",
    "cv2.imshow('fuad', rotate2)\n",
    "cv2.waitKey(0)\n",
    "cv2.destroyAllWindows()"
   ]
  },
  {
   "cell_type": "code",
   "execution_count": 24,
   "id": "942e5430",
   "metadata": {},
   "outputs": [],
   "source": [
    "# contoh pemberian bingkai\n",
    "# pada citra berskala keabu-abuan\n",
    "\n",
    "import cv2\n",
    "\n",
    "dany = cv2.imread('1.jpg')\n",
    "hasil = dany.copy()\n",
    "\n",
    "# pengolahan Dany\n",
    "tebal = 25\n",
    "hitam = [45,67,178]# R G B\n",
    "\n",
    "jumBaris = hasil.shape[0]\n",
    "jumKolom = hasil.shape[1]\n",
    "\n",
    "#--- Bingkai di atas\n",
    "for baris in range(tebal):\n",
    "    for kolom in range(jumKolom):\n",
    "        hasil[baris,kolom] = hitam\n",
    "        \n",
    "#--- Bingkai di bawah\n",
    "for baris in range(jumBaris-tebal-1,jumBaris):\n",
    "    for kolom in range(jumKolom):\n",
    "        hasil[baris,kolom] = hitam\n",
    "        \n",
    "#--- Bingkai di kiri\n",
    "for baris in range(tebal, jumBaris-tebal-1):\n",
    "    for kolom in range(tebal):\n",
    "        hasil[baris,kolom] = hitam\n",
    "        \n",
    "#--- Bingkai di kanan\n",
    "for baris in range(tebal, jumBaris-tebal-1):\n",
    "    for kolom in range(jumKolom-tebal-1,jumKolom):\n",
    "        hasil[baris,kolom] = hitam\n",
    "        \n",
    "cv2.imshow('1', dany)\n",
    "cv2.imshow('1', hasil)\n",
    "cv2.waitKey(0)\n",
    "cv2.destroyAllWindows()\n",
    "        \n"
   ]
  },
  {
   "cell_type": "code",
   "execution_count": null,
   "id": "78f44a52",
   "metadata": {},
   "outputs": [],
   "source": [
    "# Pembuatan Garis tegak dan mendatar\n",
    "# melalui titik tengah Dany\n",
    "\n",
    "import cv2\n",
    "import sys\n",
    "\n",
    "if len(sys.argv) == 1:\n",
    "    print('Masukkan nama Berkas Gambar')\n",
    "    "
   ]
  },
  {
   "cell_type": "markdown",
   "id": "9abee407",
   "metadata": {},
   "source": [
    "# Ekualisasi Histogram Citra Abu - abu\n",
    "import cv2\n",
    "import numpy as np\n",
    "\n",
    "citra = cv2.imread('peppers.png',0)\n",
    "ekual = cv2.equalizeHist(citra)\n",
    "hasil = np.hstack((citra, ekual))\n",
    "\n",
    "#tampilkan hasilnya\n",
    "cv2.imshow('Hasil, hasil)\n",
    "cv2.waitKey(0)\n",
    "cv2.destroyAllWindows"
   ]
  },
  {
   "cell_type": "code",
   "execution_count": 6,
   "id": "c9d05e48",
   "metadata": {},
   "outputs": [
    {
     "data": {
      "text/plain": [
       "-1"
      ]
     },
     "execution_count": 6,
     "metadata": {},
     "output_type": "execute_result"
    }
   ],
   "source": [
    "import cv2\n",
    "import numpy as np\n",
    "\n",
    "citra = cv2.imread('1.jpg',0)\n",
    "ekual = cv2.equalizeHist(citra)\n",
    "hasil = np.hstack((citra,ekual))\n",
    "\n",
    "cv2.imshow('Hasil', hasil)\n",
    "cv2.waitKey(0)"
   ]
  },
  {
   "cell_type": "code",
   "execution_count": 8,
   "id": "0e1d29d7",
   "metadata": {},
   "outputs": [
    {
     "data": {
      "text/plain": [
       "-1"
      ]
     },
     "execution_count": 8,
     "metadata": {},
     "output_type": "execute_result"
    }
   ],
   "source": [
    "import cv2\n",
    "import numpy as np\n",
    "\n",
    "citra = cv2.imread('1.jpg')\n",
    "\n",
    "lab = cv2.cvtColor(citra, cv2.COLOR_BGR2LAB)\n",
    "\n",
    "kanalLAB = list (cv2.split(lab))\n",
    "\n",
    "kanalLAB[0] = cv2.equalizeHist(kanalLAB[0])\n",
    "\n",
    "lab = cv2.merge(kanalLAB)\n",
    "\n",
    "bgr = cv2.cvtColor(lab, cv2.COLOR_LAB2BGR)\n",
    "\n",
    "hasil = np.hstack((citra, bgr))\n",
    "\n",
    "#tampilkan hasil\n",
    "cv2.imshow('Hasil', hasil)\n",
    "cv2.waitKey(0)"
   ]
  },
  {
   "cell_type": "markdown",
   "id": "35163a75",
   "metadata": {},
   "source": [
    "# Ekualisasi Histogram Menggunakan CLAHE #"
   ]
  },
  {
   "cell_type": "code",
   "execution_count": 17,
   "id": "5850c419",
   "metadata": {},
   "outputs": [
    {
     "data": {
      "text/plain": [
       "-1"
      ]
     },
     "execution_count": 17,
     "metadata": {},
     "output_type": "execute_result"
    }
   ],
   "source": [
    "import cv2\n",
    "import numpy as np\n",
    "\n",
    "citra = cv2.imread('1.jpg',0)\n",
    "clahe = cv2.createCLAHE(clipLimit = 12,\n",
    "                       tileGridSize =(8,8))\n",
    "\n",
    "ekual = clahe.apply(citra)\n",
    "hasil = np.hstack((citra,ekual))\n",
    "\n",
    "cv2.imshow('Hasil', hasil)\n",
    "cv2.waitKey(0)"
   ]
  },
  {
   "cell_type": "markdown",
   "id": "9de4cd08",
   "metadata": {},
   "source": [
    "# Ekualisasi Histogram Menggunakan CLAHE Berwarna"
   ]
  },
  {
   "cell_type": "code",
   "execution_count": 20,
   "id": "07ada605",
   "metadata": {},
   "outputs": [
    {
     "data": {
      "text/plain": [
       "-1"
      ]
     },
     "execution_count": 20,
     "metadata": {},
     "output_type": "execute_result"
    }
   ],
   "source": [
    "import cv2\n",
    "import numpy as np\n",
    "\n",
    "citra = cv2.imread('1.jpg')\n",
    "\n",
    "lab = cv2.cvtColor(citra, cv2.COLOR_BGR2LAB)\n",
    "\n",
    "kanalLAB = list (cv2.split(lab))\n",
    "\n",
    "clahe = cv2.createCLAHE(clipLimit = 12,\n",
    "                       tileGridSize = (8,8))\n",
    "\n",
    "kanalLAB[0] = clahe.apply(kanalLAB[0])\n",
    "\n",
    "lab = cv2.merge(kanalLAB)\n",
    "\n",
    "bgr = cv2.cvtColor(lab, cv2.COLOR_LAB2BGR)\n",
    "\n",
    "hasil = np.hstack((citra,bgr))\n",
    "\n",
    "cv2.imshow('Hasil', hasil)\n",
    "cv2.waitKey(0)"
   ]
  },
  {
   "cell_type": "markdown",
   "id": "fc20a764",
   "metadata": {},
   "source": [
    "# Histogram"
   ]
  },
  {
   "cell_type": "code",
   "execution_count": 6,
   "id": "767bd590",
   "metadata": {
    "scrolled": true
   },
   "outputs": [
    {
     "data": {
      "image/png": "[encoded data removed]",
      "text/plain": [
       "<Figure size 640x480 with 1 Axes>"
      ]
     },
     "metadata": {},
     "output_type": "display_data"
    }
   ],
   "source": [
    "import matplotlib.pyplot as plt\n",
    "import cv2\n",
    "import sys\n",
    "citra = cv2.imread('1.jpg')\n",
    "histo = cv2.calcHist([citra],[0],None,[256],[0,256]) #kanal warna Biru\n",
    "plt.plot(histo)\n",
    "plt.show()"
   ]
  },
  {
   "cell_type": "code",
   "execution_count": 8,
   "id": "1ffe3e46",
   "metadata": {},
   "outputs": [
    {
     "data": {
      "image/png": "[encoded data removed]",
      "text/plain": [
       "<Figure size 640x480 with 1 Axes>"
      ]
     },
     "metadata": {},
     "output_type": "display_data"
    }
   ],
   "source": [
    "histo = cv2.calcHist([citra],[1], None,[256],[0,256])\n",
    "plt.plot(histo, color='red')\n",
    "plt.show()"
   ]
  },
  {
   "cell_type": "markdown",
   "id": "0d459201",
   "metadata": {},
   "source": [
    "# <span style=\"color: red;\">IMAGE TRANSLATION</span>"
   ]
  },
  {
   "cell_type": "code",
   "execution_count": 2,
   "id": "860673c9",
   "metadata": {},
   "outputs": [],
   "source": [
    "import numpy as np\n",
    "import cv2 as cv\n",
    "\n",
    "img =cv.imread('1.jpg', 0)\n",
    "rows, cols = img.shape\n",
    "M = np.float32([[1, 0, 100], [0, 1, 50]])\n",
    "dst = cv.warpAffine(img, M, (cols, rows))\n",
    "\n",
    "cv.imshow('img', dst)\n",
    "cv.waitKey(0)\n",
    "cv.destroyAllWindows()"
   ]
  },
  {
   "cell_type": "markdown",
   "id": "6bbb12af",
   "metadata": {},
   "source": [
    "# <span style=\"color: red;\">Image Reflection</span>"
   ]
  },
  {
   "cell_type": "code",
   "execution_count": 1,
   "id": "3480ea17",
   "metadata": {},
   "outputs": [],
   "source": [
    "import numpy as np\n",
    "import cv2 as cv\n",
    "\n",
    "img = cv.imread('1.jpg', 0)\n",
    "rows, cols, = img.shape\n",
    "M = np.float32([[1, 0, 0],\n",
    "               [0, -1, rows],\n",
    "               [0, 0, 1]])\n",
    "reflected_img = cv.warpPerspective(img, M,\n",
    "                                  (int(cols),\n",
    "                                  int(rows)))\n",
    "cv.imshow('img', reflected_img)\n",
    "cv.imwrite('reflected_out.jpg', reflected_img)\n",
    "cv.waitKey(0)\n",
    "cv.destroyAllWindows()"
   ]
  },
  {
   "cell_type": "markdown",
   "id": "00139ff7",
   "metadata": {},
   "source": [
    "# <span style=\"color: red;\">Image Rotation</span>"
   ]
  },
  {
   "cell_type": "code",
   "execution_count": 11,
   "id": "ea7ffc96",
   "metadata": {},
   "outputs": [],
   "source": [
    "import numpy as np\n",
    "import cv2 as cv\n",
    "\n",
    "img = cv.imread('1.jpg', 0)\n",
    "rows, cols, = img.shape\n",
    "M = np.float32([[1, 0, 0],\n",
    "               [0, -1, rows],\n",
    "               [0, 0, 1]])\n",
    "img_rotation = cv.warpAffine(img, cv.getRotationMatrix2D((cols/2, rows/2), 30, 0.6),\n",
    "                                                         (cols, rows))\n",
    "\n",
    "cv.imshow('img', img_rotation)\n",
    "cv.imwrite('rotation_out.png', img_rotation)\n",
    "cv.waitKey(0)\n",
    "cv.destroyAllWindows()\n"
   ]
  },
  {
   "cell_type": "markdown",
   "id": "7e3e8169",
   "metadata": {},
   "source": [
    "# <span style=\"color: red;\"> Image Scallaing</span>"
   ]
  },
  {
   "cell_type": "code",
   "execution_count": 12,
   "id": "0cf4ea02",
   "metadata": {},
   "outputs": [],
   "source": [
    "import numpy as np\n",
    "import cv2 as cv\n",
    "\n",
    "img = cv.imread('1.jpg', 0)\n",
    "rows, cols, = img.shape\n",
    "img_shrinked = cv.resize(img,(250, 200), interpolation = cv.INTER_AREA)\n",
    "\n",
    "cv.imshow('img', img_shrinked)\n",
    "img_enlarged = cv.resize(img_shrinked, None, fx=1.5, fy=1.5, interpolation = cv.INTER_CUBIC)\n",
    "\n",
    "cv.imshow('img', img_enlarged)\n",
    "cv.waitKey(0)\n",
    "cv.destroyAllWindows()"
   ]
  },
  {
   "cell_type": "markdown",
   "id": "48412d56",
   "metadata": {},
   "source": [
    "# <span style=\"color: red;\"> Image Cropping</span>"
   ]
  },
  {
   "cell_type": "code",
   "execution_count": 13,
   "id": "1b580aeb",
   "metadata": {},
   "outputs": [],
   "source": [
    "import numpy as np\n",
    "import cv2 as cv\n",
    "img = cv.imread('1.jpg', 0)\n",
    "cropped_img = img[100:300, 100:300]\n",
    "cv.imshow('img', cropped_img)\n",
    "cv.imwrite('cropped_out.jpg', cropped_img)\n",
    "cv.waitKey(0)\n",
    "cv.destroyAllWindows()"
   ]
  },
  {
   "cell_type": "markdown",
   "id": "e75483b8",
   "metadata": {},
   "source": [
    "# <span style=\"color: orange;\"> Image Shearing in X-Axis</span>"
   ]
  },
  {
   "cell_type": "code",
   "execution_count": 14,
   "id": "02a37dec",
   "metadata": {},
   "outputs": [],
   "source": [
    "import numpy as np\n",
    "import cv2 as cv\n",
    "img = cv.imread('1.jpg', 0)\n",
    "rows, cols = img.shape\n",
    "M = np.float32([[1, 0.5, 0],[0, 1, 0], [0, 0, 1]])\n",
    "sheared_img = cv.warpPerspective(img, M,(int(cols*1.5), int(rows*1.5)))\n",
    "cv.imshow('img', sheared_img)\n",
    "cv.waitKey(0)\n",
    "cv.destroyAllWindows()"
   ]
  },
  {
   "cell_type": "markdown",
   "id": "b26d90b2",
   "metadata": {},
   "source": [
    "# <span style=\"color: orange;\"> Image Sheareing in Y-Axis</span>"
   ]
  },
  {
   "cell_type": "code",
   "execution_count": 16,
   "id": "86a1d089",
   "metadata": {},
   "outputs": [],
   "source": [
    "import numpy as np\n",
    "import cv2 as cv\n",
    "img = cv.imread('1.jpg', 0)\n",
    "rows, cols = img.shape\n",
    "M = np.float32([[1, 0, 0],[0.5, 1, 0], [0, 0, 1]])\n",
    "sheared_img = cv.warpPerspective(img, M,(int(cols*1.5), int(rows*1.5)))\n",
    "cv.imshow('sheared_y-axis_out.jpg', sheared_img)\n",
    "cv.waitKey(0)\n",
    "cv.destroyAllWindows()"
   ]
  },
  {
   "cell_type": "markdown",
   "id": "ee97c45d",
   "metadata": {},
   "source": [
    "#   <span style=\"color: yellow;\">Filter Lolos Bawah</span>"
   ]
  },
  {
   "cell_type": "code",
   "execution_count": 21,
   "id": "39546196",
   "metadata": {},
   "outputs": [
    {
     "data": {
      "text/plain": [
       "-1"
      ]
     },
     "execution_count": 21,
     "metadata": {},
     "output_type": "execute_result"
    }
   ],
   "source": [
    "import cv2\n",
    "import numpy as np\n",
    "\n",
    "citra = cv2.imread('1.jpg', 0)\n",
    "kernel = np.float32([[1,1,1],\n",
    "                   [1,1,1],\n",
    "                   [1,1,1]]) / 9\n",
    "terfilter = cv2.filter2D(citra, -1, kernel)\n",
    "\n",
    "hasil = np.hstack((citra, terfilter))\n",
    "\n",
    "cv2.imshow('Hasil', hasil)\n",
    "cv2.waitKey(0)\n"
   ]
  },
  {
   "cell_type": "markdown",
   "id": "e6503446",
   "metadata": {},
   "source": [
    "#  <span style=\"color: yellow;\">Filter Lolos Tinggi</span>"
   ]
  },
  {
   "cell_type": "code",
   "execution_count": 22,
   "id": "1256d2ca",
   "metadata": {},
   "outputs": [
    {
     "data": {
      "text/plain": [
       "-1"
      ]
     },
     "execution_count": 22,
     "metadata": {},
     "output_type": "execute_result"
    }
   ],
   "source": [
    "import cv2\n",
    "import numpy as np\n",
    "\n",
    "citra = cv2.imread('1.jpg', 0)\n",
    "jumBaris, jumKolom = citra.shape[:2]\n",
    "\n",
    "citra = cv2.resize(citra,\n",
    "                  (int(0.5* jumBaris),int(0.5* jumKolom)))\n",
    "\n",
    "kernelA = np.float32([[0, -1, 0],\n",
    "                     [-1, 4, -1],\n",
    "                     [0, -1, 0]])\n",
    "                   \n",
    "kernelB = np.float32([[-1, -1, -1],\n",
    "                     [-1, 8, -1],\n",
    "                     [-1, -1, -1]])\n",
    "                   \n",
    "kernelC = np.float32([[1, -2, 1],\n",
    "                     [-2, 4, -2],\n",
    "                     [1, -2, 1]])\n",
    "                   \n",
    "filterA = cv2.filter2D(citra, -1, kernelA)\n",
    "filterB = cv2.filter2D(citra, -1, kernelB)\n",
    "filterC = cv2.filter2D(citra, -1, kernelC)\n",
    "\n",
    "baris1 = np.hstack((citra, filterA))\n",
    "baris2 = np.hstack((filterB, filterC))\n",
    "\n",
    "hasil = np.hstack((baris1, baris2))\n",
    "\n",
    "cv2.imshow('Hasil', hasil)\n",
    "cv2.waitKey(0)"
   ]
  },
  {
   "cell_type": "markdown",
   "id": "96476866",
   "metadata": {},
   "source": [
    "#  <span style=\"color: orange;\">Filter High Boost </span>"
   ]
  },
  {
   "cell_type": "markdown",
   "id": "4bd8e240",
   "metadata": {},
   "source": [
    "import cv2\n",
    "import numpy as np\n",
    "\n",
    "citra = cv2.imread('1.jpg', 0)\n",
    "jumBaris, jumKolom = citra.shape[:2]\n",
    "\n",
    "citra = cv2.resize(citra,\n",
    "                  (int(0.5* jumBaris),int(0.5* jumKolom)))\n",
    "\n",
    "kernelA = np.float32([[-1, -1, -1],\n",
    "                     [-1, 9, -1],\n",
    "                     [-1, -1, -1]])\n",
    "                   \n",
    "kernelB = np.float32([[-1, -1, -1],\n",
    "                     [-1, 10, -1],\n",
    "                     [-1, -1, -1]])\n",
    "                   \n",
    "kernelC = np.float32([[1, -1, -1],\n",
    "                     [-1, 13, -1],\n",
    "                     [-1, -1, -1]])\n",
    "                   \n",
    "filterA = cv2.filter2D(citra, -1, kernelA)\n",
    "filterB = cv2.filter2D(citra, -1, kernelB)\n",
    "filterC = cv2.filter2D(citra, -1, kernelC)\n",
    "\n",
    "baris1 = np.hstack((citra, filterA))\n",
    "baris2 = np.hstack((filterB, filterC))\n",
    "\n",
    "hasil = np.hstack((baris1, baris2))\n",
    "\n",
    "cv2.imshow('Hasil', hasil)\n",
    "cv2.waitKey(0)"
   ]
  },
  {
   "cell_type": "markdown",
   "id": "f1cb89ff",
   "metadata": {},
   "source": [
    "# <span style=\"color: yellow;\">Filter Penonjolan   </span>"
   ]
  },
  {
   "cell_type": "code",
   "execution_count": 20,
   "id": "9b9c69b0",
   "metadata": {},
   "outputs": [
    {
     "data": {
      "text/plain": [
       "-1"
      ]
     },
     "execution_count": 20,
     "metadata": {},
     "output_type": "execute_result"
    }
   ],
   "source": [
    "import cv2\n",
    "import numpy as np\n",
    "\n",
    "citra = cv2.imread('1.jpg', 0)\n",
    "kernel = np.float32([[-2,0,0],\n",
    "                   [0, 0, 0],\n",
    "                   [0, 0, 2]])\n",
    "terfilter = cv2.filter2D(citra, -1, kernel)\n",
    "hasil = np.hstack(((citra, terfilter)))\n",
    "\n",
    "cv2.imshow('Hasil', hasil)\n",
    "cv2.waitKey(0)"
   ]
  },
  {
   "cell_type": "code",
   "execution_count": null,
   "id": "53fedd84",
   "metadata": {},
   "outputs": [],
   "source": []
  }
 ],
 "metadata": {
  "kernelspec": {
   "display_name": "Python 3 (ipykernel)",
   "language": "python",
   "name": "python3"
  },
  "language_info": {
   "codemirror_mode": {
    "name": "ipython",
    "version": 3
   },
   "file_extension": ".py",
   "mimetype": "text/x-python",
   "name": "python",
   "nbconvert_exporter": "python",
   "pygments_lexer": "ipython3",
   "version": "3.10.9"
  }
 },
 "nbformat": 4,
 "nbformat_minor": 5
}
